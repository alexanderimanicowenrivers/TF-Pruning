{
  "nbformat": 4,
  "nbformat_minor": 0,
  "metadata": {
    "colab": {
      "name": "MNIST-Prune.ipynb",
      "version": "0.3.2",
      "provenance": [],
      "collapsed_sections": [
        "Mw0BAG84Y2bW"
      ],
      "include_colab_link": true
    },
    "kernelspec": {
      "name": "python3",
      "display_name": "Python 3"
    },
    "accelerator": "TPU"
  },
  "cells": [
    {
      "cell_type": "markdown",
      "metadata": {
        "id": "view-in-github",
        "colab_type": "text"
      },
      "source": [
        "<a href=\"https://colab.research.google.com/github/alexanderimanicowenrivers/TF-Pruning/blob/master/MNIST_Prune.ipynb\" target=\"_parent\"><img src=\"https://colab.research.google.com/assets/colab-badge.svg\" alt=\"Open In Colab\"/></a>"
      ]
    },
    {
      "metadata": {
        "id": "onXwj-Mxblkg",
        "colab_type": "text"
      },
      "cell_type": "markdown",
      "source": [
        "# Intro "
      ]
    },
    {
      "metadata": {
        "id": "HZ9PK-6XZ36u",
        "colab_type": "text"
      },
      "cell_type": "markdown",
      "source": [
        "In this colab document we will explore how to create and prune a basic model in tensorflow.\n"
      ]
    },
    {
      "metadata": {
        "id": "qn3nWaMHboup",
        "colab_type": "text"
      },
      "cell_type": "markdown",
      "source": [
        "# Imports"
      ]
    },
    {
      "metadata": {
        "id": "7_JNrbEeYeuz",
        "colab_type": "code",
        "colab": {
          "base_uri": "https://localhost:8080/",
          "height": 34
        },
        "outputId": "18a37542-df40-4373-c31b-0d32551089ba"
      },
      "cell_type": "code",
      "source": [
        "from __future__ import print_function\n",
        "import keras\n",
        "from keras.datasets import mnist\n",
        "from keras import backend as K\n",
        "import tensorflow as tf\n",
        "tf.enable_eager_execution()\n",
        "print(f'Eager execution enabled: {tf.executing_eagerly()}')\n"
      ],
      "execution_count": 4,
      "outputs": [
        {
          "output_type": "stream",
          "text": [
            "Eager execution enabled: True\n"
          ],
          "name": "stdout"
        }
      ]
    },
    {
      "metadata": {
        "id": "Mw0BAG84Y2bW",
        "colab_type": "text"
      },
      "cell_type": "markdown",
      "source": [
        "# Data loader"
      ]
    },
    {
      "metadata": {
        "id": "mLSSZCHdYk3a",
        "colab_type": "code",
        "colab": {
          "base_uri": "https://localhost:8080/",
          "height": 51
        },
        "outputId": "71a5a203-cd06-4c4a-9763-0b1868994e82"
      },
      "cell_type": "code",
      "source": [
        "(x_train, y_train), (x_test, y_test) = mnist.load_data() "
      ],
      "execution_count": 2,
      "outputs": [
        {
          "output_type": "stream",
          "text": [
            "Downloading data from https://s3.amazonaws.com/img-datasets/mnist.npz\n",
            "11493376/11490434 [==============================] - 0s 0us/step\n"
          ],
          "name": "stdout"
        }
      ]
    },
    {
      "metadata": {
        "id": "I-pkQh1fYnhz",
        "colab_type": "code",
        "colab": {}
      },
      "cell_type": "code",
      "source": [
        "batch_size = 128\n",
        "num_classes = 10\n",
        "epochs = 120\n",
        "img_rows, img_cols = 28, 28"
      ],
      "execution_count": 0,
      "outputs": []
    },
    {
      "metadata": {
        "id": "l7qA1wzTYpNN",
        "colab_type": "code",
        "colab": {}
      },
      "cell_type": "code",
      "source": [
        "if K.image_data_format() == 'channels_first':\n",
        "    x_train = x_train.reshape(x_train.shape[0], 1, img_rows, img_cols)\n",
        "    x_test = x_test.reshape(x_test.shape[0], 1, img_rows, img_cols)\n",
        "    input_shape = (1, img_rows, img_cols)\n",
        "else:\n",
        "    x_train = x_train.reshape(x_train.shape[0], img_rows, img_cols, 1)\n",
        "    x_test = x_test.reshape(x_test.shape[0], img_rows, img_cols, 1)\n",
        "input_shape = (img_rows, img_cols, 1)"
      ],
      "execution_count": 0,
      "outputs": []
    },
    {
      "metadata": {
        "id": "88pC1bdMYti6",
        "colab_type": "code",
        "colab": {
          "base_uri": "https://localhost:8080/",
          "height": 68
        },
        "outputId": "4de03f6c-260c-4406-bea0-ced4fe041c7d"
      },
      "cell_type": "code",
      "source": [
        "x_train = x_train.astype('float32')\n",
        "x_test = x_test.astype('float32')\n",
        "x_train /= 255\n",
        "x_test /= 255\n",
        "print('x_train shape:', x_train.shape)\n",
        "print(x_train.shape[0], 'train samples')\n",
        "print(x_test.shape[0], 'test samples')"
      ],
      "execution_count": 9,
      "outputs": [
        {
          "output_type": "stream",
          "text": [
            "x_train shape: (60000, 28, 28, 1)\n",
            "60000 train samples\n",
            "10000 test samples\n"
          ],
          "name": "stdout"
        }
      ]
    },
    {
      "metadata": {
        "id": "a3CkxirMY1JX",
        "colab_type": "code",
        "colab": {}
      },
      "cell_type": "code",
      "source": [
        "# One hot encoding\n",
        "y_train = keras.utils.to_categorical(y_train, num_classes)\n",
        "y_test = keras.utils.to_categorical(y_test, num_classes)"
      ],
      "execution_count": 0,
      "outputs": []
    },
    {
      "metadata": {
        "id": "9ps_IQMZY_Em",
        "colab_type": "code",
        "colab": {}
      },
      "cell_type": "code",
      "source": [
        ""
      ],
      "execution_count": 0,
      "outputs": []
    },
    {
      "metadata": {
        "id": "T0C6d-7IZDsJ",
        "colab_type": "text"
      },
      "cell_type": "markdown",
      "source": [
        "# Model"
      ]
    },
    {
      "metadata": {
        "id": "kN-D6W57ZEtp",
        "colab_type": "code",
        "colab": {}
      },
      "cell_type": "code",
      "source": [
        "weight_default_name='weight'\n",
        "bias_default_name='bias'\n",
        "\n",
        "def _weight_variable(\n",
        "        shape,\n",
        "        initializer=None,\n",
        "        layer=0,):\n",
        "    \"\"\"\n",
        "    Returns a weight variable with a given shape.\n",
        "    :param initializer: TensorFlow initializer. Default Xavier.\n",
        "    :param layer: Variable layer number.\n",
        "    :param shape: var shape.\n",
        "    \"\"\"\n",
        "    name=weight_default_name+'_'+str(layer)\n",
        "    if initializer is None:\n",
        "        initializer = tf.contrib.layers.xavier_initializer()\n",
        "\n",
        "    var = tf.get_variable(name, shape, initializer=initializer)\n",
        "    return var\n",
        "  \n",
        "def _bias_variable(\n",
        "        shape,\n",
        "        initializer=None,\n",
        "        layer=0,\n",
        "):\n",
        "    \"\"\"\n",
        "    Returns a bias variable with a given shape.\n",
        "    :param initializer: TensorFlow initializer. Default zero.\n",
        "    :param layer: Variable layer number.\n",
        "    :param shape: Variable shape.\n",
        "    \"\"\"\n",
        "    name=bias_default_name+'_'+str(layer)\n",
        "    if initializer is None:\n",
        "        initializer = tf.constant_initializer(0.)\n",
        "\n",
        "    return _weight_variable(shape,\n",
        "                            initializer=initializer,\n",
        "                            name=name)"
      ],
      "execution_count": 0,
      "outputs": []
    },
    {
      "metadata": {
        "id": "_q0UztOoZG0k",
        "colab_type": "text"
      },
      "cell_type": "markdown",
      "source": [
        "# Training "
      ]
    },
    {
      "metadata": {
        "id": "U1cTIoMOZH5s",
        "colab_type": "code",
        "colab": {}
      },
      "cell_type": "code",
      "source": [
        ""
      ],
      "execution_count": 0,
      "outputs": []
    },
    {
      "metadata": {
        "id": "51maYRzjZIYi",
        "colab_type": "text"
      },
      "cell_type": "markdown",
      "source": [
        "# Pruning"
      ]
    },
    {
      "metadata": {
        "id": "b6B8fxaQZJRy",
        "colab_type": "code",
        "colab": {}
      },
      "cell_type": "code",
      "source": [
        ""
      ],
      "execution_count": 0,
      "outputs": []
    },
    {
      "metadata": {
        "id": "gdxTTrZuZKN8",
        "colab_type": "text"
      },
      "cell_type": "markdown",
      "source": [
        "# Analysis"
      ]
    },
    {
      "metadata": {
        "id": "LubkBwM9ZLUd",
        "colab_type": "code",
        "colab": {}
      },
      "cell_type": "code",
      "source": [
        ""
      ],
      "execution_count": 0,
      "outputs": []
    }
  ]
}